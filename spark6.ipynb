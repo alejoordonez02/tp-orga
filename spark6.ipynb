{
 "cells": [
  {
   "cell_type": "markdown",
   "metadata": {},
   "source": [
    "### 6. Queremos saber cuánto pesaría si quisiéramos bajar todas las apps de un género, para todos los géneros. Para eso se pide: Calcular separado por géneros, cuanto pesarian todas las apps que tienen ese género (Tener en cuenta que si una app tiene acción y arte, su peso cuenta para ambos géneros) ⭐⭐"
   ]
  },
  {
   "cell_type": "code",
   "execution_count": 1,
   "metadata": {},
   "outputs": [],
   "source": [
    "from pyspark.sql import *\n",
    "from pyspark.sql.functions import *\n",
    "from pyspark import SparkContext\n",
    "from pyspark.sql import SQLContext\n",
    "import pandas as pd"
   ]
  },
  {
   "cell_type": "code",
   "execution_count": 2,
   "metadata": {},
   "outputs": [
    {
     "name": "stderr",
     "output_type": "stream",
     "text": [
      "Setting default log level to \"WARN\".\n",
      "To adjust logging level use sc.setLogLevel(newLevel). For SparkR, use setLogLevel(newLevel).\n",
      "23/10/09 14:19:27 WARN NativeCodeLoader: Unable to load native-hadoop library for your platform... using builtin-java classes where applicable\n",
      "/opt/homebrew/lib/python3.11/site-packages/pyspark/sql/context.py:112: FutureWarning: Deprecated in 3.0.0. Use SparkSession.builder.getOrCreate() instead.\n",
      "  warnings.warn(\n",
      "                                                                                \r"
     ]
    },
    {
     "data": {
      "text/plain": [
       "[Row(App='Photo Editor & Candy Camera & Grid & ScrapBook', Category='ART_AND_DESIGN', Rating='4.1', Reviews='159', Size='19M', Installs='10,000+', Type='Free', Price='0', Content Rating='Everyone', Genres='Art & Design', Last Updated='January 7, 2018', Current Ver='1.0.0', Android Ver='4.0.3 and up'),\n",
       " Row(App='Coloring book moana', Category='ART_AND_DESIGN', Rating='3.9', Reviews='967', Size='14M', Installs='500,000+', Type='Free', Price='0', Content Rating='Everyone', Genres='Art & Design;Pretend Play', Last Updated='January 15, 2018', Current Ver='2.0.0', Android Ver='4.0.3 and up'),\n",
       " Row(App='U Launcher Lite – FREE Live Cool Themes, Hide Apps', Category='ART_AND_DESIGN', Rating='4.7', Reviews='87510', Size='8.7M', Installs='5,000,000+', Type='Free', Price='0', Content Rating='Everyone', Genres='Art & Design', Last Updated='August 1, 2018', Current Ver='1.2.4', Android Ver='4.0.3 and up'),\n",
       " Row(App='Sketch - Draw & Paint', Category='ART_AND_DESIGN', Rating='4.5', Reviews='215644', Size='25M', Installs='50,000,000+', Type='Free', Price='0', Content Rating='Teen', Genres='Art & Design', Last Updated='June 8, 2018', Current Ver='Varies with device', Android Ver='4.2 and up'),\n",
       " Row(App='Pixel Draw - Number Art Coloring Book', Category='ART_AND_DESIGN', Rating='4.3', Reviews='967', Size='2.8M', Installs='100,000+', Type='Free', Price='0', Content Rating='Everyone', Genres='Art & Design;Creativity', Last Updated='June 20, 2018', Current Ver='1.1', Android Ver='4.4 and up')]"
      ]
     },
     "execution_count": 2,
     "metadata": {},
     "output_type": "execute_result"
    }
   ],
   "source": [
    "spark = SparkSession.builder.getOrCreate()\n",
    "sc = spark.sparkContext\n",
    "sqlContext = SQLContext(sc)\n",
    "dataframe = sqlContext.read.csv('googleplaystore.csv', header=True)\n",
    "apps = dataframe.rdd\n",
    "apps.take(5)"
   ]
  },
  {
   "cell_type": "code",
   "execution_count": 5,
   "metadata": {},
   "outputs": [
    {
     "data": {
      "text/plain": [
       "['M', 'e', 'k', 'N', 'S', '+']"
      ]
     },
     "execution_count": 5,
     "metadata": {},
     "output_type": "execute_result"
    }
   ],
   "source": [
    "apps.map(lambda x: x.Size[-1]).distinct().collect()"
   ]
  },
  {
   "cell_type": "markdown",
   "metadata": {},
   "source": [
    "Los tamaños de las aplicaciones vienen en mega y kilobytes, voy a filtrar todas las apps cuyo \"Size\" no termine en \"M\" o en \"k\" y hago la conversión para dejar todo expresado en megabytes (1k = 0.001M)"
   ]
  },
  {
   "cell_type": "code",
   "execution_count": 4,
   "metadata": {},
   "outputs": [
    {
     "name": "stderr",
     "output_type": "stream",
     "text": [
      "                                                                                \r"
     ]
    },
    {
     "data": {
      "text/plain": [
       "[('Art & Design', 812.0000000000002),\n",
       " ('Pretend Play', 4082.2000000000003),\n",
       " ('Creativity', 1236.9),\n",
       " ('Action & Adventure', 5757.099999999999),\n",
       " ('Auto & Vehicles', 1502.786),\n",
       " ('Beauty', 648.4000000000001),\n",
       " ('Books & Reference', 2740.232),\n",
       " ('Business', 5788.865),\n",
       " ('Comics', 687.7530000000002),\n",
       " ('Communication', 3118.176999999999),\n",
       " ('Dating', 3524.6180000000018),\n",
       " ('Education', 14758.522999999994),\n",
       " ('Brain Games', 1967.6999999999998),\n",
       " ('Entertainment', 9057.860000000002),\n",
       " ('Music & Video', 865.3000000000001),\n",
       " ('Events', 795.934),\n",
       " ('Finance', 5504.069999999997),\n",
       " ('Food & Drink', 2218.5),\n",
       " ('Health & Fitness', 6144.072000000001),\n",
       " ('House & Home', 1086.5559999999998),\n",
       " ('Libraries & Demo', 908.8335),\n",
       " ('Lifestyle', 5090.302000000001),\n",
       " ('Adventure', 3411.4),\n",
       " ('Arcade', 8858.800000000001),\n",
       " ('Casual', 8482.000000000004),\n",
       " ('Card', 1348.516),\n",
       " ('Strategy', 5258.900000000001),\n",
       " ('Action', 17347.343),\n",
       " ('Puzzle', 5307.6500000000015),\n",
       " ('Sports', 8652.433000000003),\n",
       " ('Word', 893.0),\n",
       " ('Racing', 5159.9),\n",
       " ('Simulation', 9252.5),\n",
       " ('Board', 1450.7909999999997),\n",
       " ('Trivia', 806.7),\n",
       " ('Role Playing', 5816.529000000001),\n",
       " ('Educational', 4931.687),\n",
       " ('Music', 791.8),\n",
       " ('Music & Audio', 9.8),\n",
       " ('Video Players & Editors', 2149.079999999999),\n",
       " ('Medical', 8519.002999999997),\n",
       " ('Social', 3713.1930000000007),\n",
       " ('Shopping', 3251.2610000000004),\n",
       " ('Photography', 4411.387),\n",
       " ('Travel & Local', 4733.662999999999),\n",
       " ('Tools', 6481.954000000002),\n",
       " ('Personalization', 4010.8430000000035),\n",
       " ('Productivity', 3933.369),\n",
       " ('Parenting', 1215.6999999999998),\n",
       " ('Weather', 748.0820000000002),\n",
       " ('News & Magazines', 2813.108000000002),\n",
       " ('Maps & Navigation', 1794.3890000000001),\n",
       " ('Casino', 1059.7)]"
      ]
     },
     "execution_count": 4,
     "metadata": {},
     "output_type": "execute_result"
    }
   ],
   "source": [
    "apps.filter(lambda x: x.Size[-1] in ['M', 'k']).map(lambda x: (x.Genres.split(';'), float(x.Size[:-1]) if x.Size[-1] == 'M' else float(x.Size[:-1]) * 0.001))\\\n",
    ".flatMap(lambda x: [(genre, x[1]) for genre in x[0]]).reduceByKey(lambda a, b: a + b).collect()"
   ]
  }
 ],
 "metadata": {
  "kernelspec": {
   "display_name": "Python 3",
   "language": "python",
   "name": "python3"
  },
  "language_info": {
   "codemirror_mode": {
    "name": "ipython",
    "version": 3
   },
   "file_extension": ".py",
   "mimetype": "text/x-python",
   "name": "python",
   "nbconvert_exporter": "python",
   "pygments_lexer": "ipython3",
   "version": "3.11.4"
  }
 },
 "nbformat": 4,
 "nbformat_minor": 2
}
