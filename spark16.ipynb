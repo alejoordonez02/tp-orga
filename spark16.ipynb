{
 "cells": [
  {
   "cell_type": "markdown",
   "metadata": {},
   "source": [
    "### 16. Ordenar de forma descendente todas las categorías por cantidad de descargas ⭐⭐"
   ]
  },
  {
   "cell_type": "code",
   "execution_count": 1,
   "metadata": {},
   "outputs": [],
   "source": [
    "from pyspark.sql import *\n",
    "from pyspark.sql.functions import *\n",
    "from pyspark import SparkContext\n",
    "from pyspark.sql import SQLContext\n",
    "import pandas as pd"
   ]
  },
  {
   "cell_type": "code",
   "execution_count": 2,
   "metadata": {},
   "outputs": [
    {
     "name": "stderr",
     "output_type": "stream",
     "text": [
      "Setting default log level to \"WARN\".\n",
      "To adjust logging level use sc.setLogLevel(newLevel). For SparkR, use setLogLevel(newLevel).\n",
      "23/10/09 14:23:02 WARN NativeCodeLoader: Unable to load native-hadoop library for your platform... using builtin-java classes where applicable\n",
      "/opt/homebrew/lib/python3.11/site-packages/pyspark/sql/context.py:112: FutureWarning: Deprecated in 3.0.0. Use SparkSession.builder.getOrCreate() instead.\n",
      "  warnings.warn(\n",
      "                                                                                \r"
     ]
    },
    {
     "data": {
      "text/plain": [
       "[Row(App='Photo Editor & Candy Camera & Grid & ScrapBook', Category='ART_AND_DESIGN', Rating='4.1', Reviews='159', Size='19M', Installs='10,000+', Type='Free', Price='0', Content Rating='Everyone', Genres='Art & Design', Last Updated='January 7, 2018', Current Ver='1.0.0', Android Ver='4.0.3 and up'),\n",
       " Row(App='Coloring book moana', Category='ART_AND_DESIGN', Rating='3.9', Reviews='967', Size='14M', Installs='500,000+', Type='Free', Price='0', Content Rating='Everyone', Genres='Art & Design;Pretend Play', Last Updated='January 15, 2018', Current Ver='2.0.0', Android Ver='4.0.3 and up'),\n",
       " Row(App='U Launcher Lite – FREE Live Cool Themes, Hide Apps', Category='ART_AND_DESIGN', Rating='4.7', Reviews='87510', Size='8.7M', Installs='5,000,000+', Type='Free', Price='0', Content Rating='Everyone', Genres='Art & Design', Last Updated='August 1, 2018', Current Ver='1.2.4', Android Ver='4.0.3 and up'),\n",
       " Row(App='Sketch - Draw & Paint', Category='ART_AND_DESIGN', Rating='4.5', Reviews='215644', Size='25M', Installs='50,000,000+', Type='Free', Price='0', Content Rating='Teen', Genres='Art & Design', Last Updated='June 8, 2018', Current Ver='Varies with device', Android Ver='4.2 and up'),\n",
       " Row(App='Pixel Draw - Number Art Coloring Book', Category='ART_AND_DESIGN', Rating='4.3', Reviews='967', Size='2.8M', Installs='100,000+', Type='Free', Price='0', Content Rating='Everyone', Genres='Art & Design;Creativity', Last Updated='June 20, 2018', Current Ver='1.1', Android Ver='4.4 and up')]"
      ]
     },
     "execution_count": 2,
     "metadata": {},
     "output_type": "execute_result"
    }
   ],
   "source": [
    "spark = SparkSession.builder.getOrCreate()\n",
    "sc = spark.sparkContext\n",
    "sqlContext = SQLContext(sc)\n",
    "dataframe = sqlContext.read.csv('googleplaystore.csv', header=True)\n",
    "apps = dataframe.rdd\n",
    "apps.take(5)"
   ]
  },
  {
   "cell_type": "markdown",
   "metadata": {},
   "source": [
    "Voy a filtrar dos registros que están rotos"
   ]
  },
  {
   "cell_type": "code",
   "execution_count": 3,
   "metadata": {},
   "outputs": [],
   "source": [
    "apps = apps.filter(lambda x: not x.Installs in ['4.4', '4.2'])"
   ]
  },
  {
   "cell_type": "code",
   "execution_count": 4,
   "metadata": {},
   "outputs": [
    {
     "name": "stderr",
     "output_type": "stream",
     "text": [
      "                                                                                \r"
     ]
    },
    {
     "data": {
      "text/plain": [
       "[('GAME', 35086024415),\n",
       " ('COMMUNICATION', 32647276251),\n",
       " ('PRODUCTIVITY', 14176091369),\n",
       " ('SOCIAL', 14069867902),\n",
       " ('TOOLS', 11452771915),\n",
       " ('FAMILY', 10258263505),\n",
       " ('PHOTOGRAPHY', 10088247655),\n",
       " ('NEWS_AND_MAGAZINES', 7496317760),\n",
       " ('TRAVEL_AND_LOCAL', 6868887146),\n",
       " ('VIDEO_PLAYERS', 6222002720),\n",
       " ('SHOPPING', 3247848785),\n",
       " ('ENTERTAINMENT', 2869160000),\n",
       " ('PERSONALIZATION', 2325494782),\n",
       " ('BOOKS_AND_REFERENCE', 1921469576),\n",
       " ('SPORTS', 1751174498),\n",
       " ('HEALTH_AND_FITNESS', 1582072512),\n",
       " ('BUSINESS', 1001914865),\n",
       " ('FINANCE', 876648734),\n",
       " ('EDUCATION', 871452000),\n",
       " ('MAPS_AND_NAVIGATION', 719281890),\n",
       " ('LIFESTYLE', 537643539),\n",
       " ('WEATHER', 426100520),\n",
       " ('FOOD_AND_DRINK', 273898751),\n",
       " ('DATING', 264310807),\n",
       " ('HOUSE_AND_HOME', 168712461),\n",
       " ('ART_AND_DESIGN', 124338100),\n",
       " ('LIBRARIES_AND_DEMO', 62995910),\n",
       " ('COMICS', 56086150),\n",
       " ('MEDICAL', 53257437),\n",
       " ('AUTO_AND_VEHICLES', 53130211),\n",
       " ('PARENTING', 31521110),\n",
       " ('BEAUTY', 27197050),\n",
       " ('EVENTS', 15973161)]"
      ]
     },
     "execution_count": 4,
     "metadata": {},
     "output_type": "execute_result"
    }
   ],
   "source": [
    "def numero_valido(x):\n",
    "    try:\n",
    "        float(x)\n",
    "        return x.lower() != 'nan'\n",
    "    except:\n",
    "        return False\n",
    "\n",
    "apps.map(lambda x: (x.Category, x.Installs.rstrip('+').replace(',',''))).filter(lambda x: x[0].lower() != 'nan' and numero_valido(x[1]))\\\n",
    ".map(lambda x: (x[0], int(x[1])))\\\n",
    ".reduceByKey(lambda a, b: a + b).sortBy(keyfunc= lambda x: -x[1]).collect()"
   ]
  }
 ],
 "metadata": {
  "kernelspec": {
   "display_name": "Python 3",
   "language": "python",
   "name": "python3"
  },
  "language_info": {
   "codemirror_mode": {
    "name": "ipython",
    "version": 3
   },
   "file_extension": ".py",
   "mimetype": "text/x-python",
   "name": "python",
   "nbconvert_exporter": "python",
   "pygments_lexer": "ipython3",
   "version": "3.11.4"
  }
 },
 "nbformat": 4,
 "nbformat_minor": 2
}
